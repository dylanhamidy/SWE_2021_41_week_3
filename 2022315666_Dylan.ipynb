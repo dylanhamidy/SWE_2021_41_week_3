{
  "nbformat": 4,
  "nbformat_minor": 0,
  "metadata": {
    "colab": {
      "provenance": []
    },
    "kernelspec": {
      "name": "python3",
      "display_name": "Python 3"
    },
    "language_info": {
      "name": "python"
    }
  },
  "cells": [
    {
      "cell_type": "markdown",
      "source": [
        "## Task\n",
        "- Complete **isHappy** function following the description below\n",
        "\n",
        "### Happy Number\n",
        "Write an algorithm to determine if a number **n** is happy.\n",
        "\n",
        "A **happy number** is a number defined by the following process:\n",
        "\n",
        "* Starting with any positive integer, replace the number by the sum of the squares of its digits.\n",
        "* Repeat the process until the number equals 1 (where it will stay), or it **loops endlessly in a cycle** which does not include 1.\n",
        "* Those numbers for which this process **ends in 1** are happy.\n",
        "\n",
        "Return **true** if n is a happy number, and **false** if not.\n",
        "\n",
        "Constraints:\n",
        "1 <= n <= $2^{31}$ - 1"
      ],
      "metadata": {
        "id": "TV3Socqg8BVl"
      }
    },
    {
      "cell_type": "code",
      "execution_count": 12,
      "metadata": {
        "id": "5FcxitVf5kdQ",
        "colab": {
          "base_uri": "https://localhost:8080/"
        },
        "outputId": "9baa8936-cffb-4296-95c8-8be50fdd63b9"
      },
      "outputs": [
        {
          "output_type": "stream",
          "name": "stdout",
          "text": [
            "20\n",
            "FALSE\n"
          ]
        }
      ],
      "source": [
        "def isHappy(n):\n",
        "\n",
        "  #We are going to use Floyd Cycle Finding Algorithm\n",
        "  old = n\n",
        "  new = calculate_digit (n)\n",
        "\n",
        "  while new != 1 and old != new:\n",
        "    next_new = calculate_digit(new)\n",
        "    old = new\n",
        "    new = calculate_digit (next_new)\n",
        "\n",
        "  return new == 1\n",
        "\n",
        "\n",
        "def calculate_digit (n):\n",
        "  calculated_digit = 0\n",
        "\n",
        "  while n > 0:\n",
        "    digit = n % 10\n",
        "    calculated_digit += digit * digit\n",
        "    n = n // 10\n",
        "\n",
        "  return calculated_digit\n",
        "\n",
        "variable = int(input())\n",
        "steps = [variable]\n",
        "while True:\n",
        "    variable = calculate_digit(variable)\n",
        "    steps.append(variable)\n",
        "    if variable == 1:\n",
        "        print(\"TRUE\")\n",
        "        break\n",
        "    elif variable in steps[:-1]:\n",
        "        print(\"FALSE\")\n",
        "        break\n"
      ]
    },
    {
      "cell_type": "markdown",
      "source": [
        "**Testcase 1.**\n",
        "\n",
        "**Input**: 19\n",
        "\n",
        "**Output**: True\n",
        "\n",
        "**Explanation**:\n",
        "\n",
        "$1^2 + 9^2 = 82$\n",
        "\n",
        "$8^2 + 2^2 = 68$\n",
        "\n",
        "$6^2 + 8^2 = 100$\n",
        "\n",
        "$1^2 + 0^2 + 0^2 = 1$"
      ],
      "metadata": {
        "id": "eRrh24Ognrqf"
      }
    },
    {
      "cell_type": "markdown",
      "source": [
        "**Testcase 2.**\n",
        "\n",
        "**Input**: 2\n",
        "\n",
        "**Output**: False"
      ],
      "metadata": {
        "id": "dE7YMY8qoPoj"
      }
    }
  ]
}